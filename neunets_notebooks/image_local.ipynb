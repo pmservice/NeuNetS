{
 "cells": [
  {
   "cell_type": "markdown",
   "metadata": {},
   "source": [
    "# Using NeuNetS Generated Model to Locally Perform Inference on Sample Images"
   ]
  },
  {
   "cell_type": "markdown",
   "metadata": {},
   "source": [
    "This notebook imports a **Keras** (TensorFlow) model which was designed and trained using *NeuNetS*. *NeuNetS* designs and trains a custom neural network, which users may then download. This download produces the file neunets_output.tar.gz. This compressed file contains two objects, keras_model.hdf5, and metadata.json. \n",
    "\n",
    "The metadata file contains information necessary for pre- and post-processing input images to be compatible with the **Keras** model. Since **Keras** requires that classes have integer labels, this file contains the mapping necessary to find the actual label corresponding to the predicted class. \n",
    "\n",
    "The user can input **raw .jpg or .png images** and use this model to infer their class. "
   ]
  },
  {
   "cell_type": "markdown",
   "metadata": {},
   "source": [
    "## 1. Install NeunetsProcessor"
   ]
  },
  {
   "cell_type": "markdown",
   "metadata": {},
   "source": [
    "Here we install the library required for inferencing on the model."
   ]
  },
  {
   "cell_type": "code",
   "execution_count": null,
   "metadata": {},
   "outputs": [],
   "source": [
    "!pip install --upgrade git+https://github.com/pmservice/NeuNetS/#egg=neunets_processor\\&subdirectory=neunets_processor"
   ]
  },
  {
   "cell_type": "markdown",
   "metadata": {},
   "source": [
    "**Tip**: Restart the kernel (**Kernel** -> **Restart**)"
   ]
  },
  {
   "cell_type": "markdown",
   "metadata": {},
   "source": [
    "## 2. Unpack the Model and Metadata"
   ]
  },
  {
   "cell_type": "markdown",
   "metadata": {},
   "source": [
    "This is the location of the model. A .tar.gz file is downloaded from *NeuNetS*, which contains the model\n",
    "along with a .json file which specifies the mapping between class label names and \n",
    "the class indices used by **Keras**. "
   ]
  },
  {
   "cell_type": "code",
   "execution_count": null,
   "metadata": {
    "collapsed": true
   },
   "outputs": [],
   "source": [
    "#This must be the absolute path.\n",
    "#The file neunets_output.tar.gz should have been downloaded to this directory from the NeuNetS service. \n",
    "model_location = '/path_to_model/'"
   ]
  },
  {
   "cell_type": "code",
   "execution_count": null,
   "metadata": {
    "collapsed": true
   },
   "outputs": [],
   "source": [
    "# Install os library to handle file operations\n",
    "import os"
   ]
  },
  {
   "cell_type": "markdown",
   "metadata": {},
   "source": [
    "Go to the directory containing the compressed model file and unpack it. Then return to the current directory. "
   ]
  },
  {
   "cell_type": "code",
   "execution_count": null,
   "metadata": {},
   "outputs": [],
   "source": [
    "#change to model directory and unpack\n",
    "#If the model file has been renamed, this must be changed in this cell. \n",
    "cwd = os.getcwd()\n",
    "os.chdir(model_location)\n",
    "assert os.path.isfile(\"neunets_output.tar.gz\")\n",
    "!gunzip neunets_output.tar.gz\n",
    "!tar -xvf neunets_output.tar\n",
    "os.chdir(cwd)"
   ]
  },
  {
   "cell_type": "markdown",
   "metadata": {},
   "source": [
    "Names of the files containing the model and the label mapping. These will be used to initialize an image processor instance which can then perform inference on images input by the user. "
   ]
  },
  {
   "cell_type": "code",
   "execution_count": null,
   "metadata": {
    "collapsed": true
   },
   "outputs": [],
   "source": [
    "model_file = os.path.join(model_location,\"keras_model.hdf5\")\n",
    "metadata_file = os.path.join(model_location,\"metadata.json\")"
   ]
  },
  {
   "cell_type": "code",
   "execution_count": null,
   "metadata": {},
   "outputs": [],
   "source": [
    "from neunets_processor.image import image_processor"
   ]
  },
  {
   "cell_type": "code",
   "execution_count": null,
   "metadata": {
    "collapsed": true
   },
   "outputs": [],
   "source": [
    "#Initialize image processor from model and metadata file\n",
    "processor = image_processor.ImageProcessor(model_file, metadata_file)"
   ]
  },
  {
   "cell_type": "markdown",
   "metadata": {},
   "source": [
    "## 3. Classify an Image"
   ]
  },
  {
   "cell_type": "markdown",
   "metadata": {},
   "source": [
    "Importing images into the notebook requires the Python Imaging Library"
   ]
  },
  {
   "cell_type": "code",
   "execution_count": null,
   "metadata": {
    "collapsed": true
   },
   "outputs": [],
   "source": [
    "# Python Image Processing Library\n",
    "from PIL import Image"
   ]
  },
  {
   "cell_type": "markdown",
   "metadata": {},
   "source": [
    "The user supplies an image here in .png or .jpg format."
   ]
  },
  {
   "cell_type": "code",
   "execution_count": null,
   "metadata": {},
   "outputs": [],
   "source": [
    "#open test image\n",
    "test_image = Image.open('/path_to_image/test-image.jpg')\n",
    "display(test_image)"
   ]
  },
  {
   "cell_type": "markdown",
   "metadata": {},
   "source": [
    "Using the processor.predict method provides the class label predicted by the model. "
   ]
  },
  {
   "cell_type": "code",
   "execution_count": null,
   "metadata": {},
   "outputs": [],
   "source": [
    "#Find the predicted class\n",
    "predicted_class = processor.predict([test_image])\n",
    "print(\"predicted class label is: \", predicted_class)"
   ]
  },
  {
   "cell_type": "markdown",
   "metadata": {},
   "source": [
    "This is all that is necessary to use the *NeuNetS* synthesized model to classify images input by the user. For those who want more fine-grained control over the inferencing process, a more detailed description is given below. "
   ]
  },
  {
   "cell_type": "markdown",
   "metadata": {},
   "source": [
    "## 4. Details of Processing"
   ]
  },
  {
   "cell_type": "markdown",
   "metadata": {},
   "source": [
    "In order to obtain a prediction, the method used above is sufficient. If the user wishes to obtain more granular output during this process, they can invoke the subroutines of this method. \n",
    "\n",
    "The processor.predict method wraps the three steps below:\n",
    "1. Preprocess raw input image into correct input format for the **Keras** model. \n",
    "2. Use the model loaded by the processor to make a prediction. \n",
    "3. Extract prediction from **Keras** model.predict output. \n",
    "\n",
    "These intermediate steps are documented below. "
   ]
  },
  {
   "cell_type": "markdown",
   "metadata": {},
   "source": [
    "### 4.1 Preprocess the Image\n",
    "In order to format a raw jpg or png image to be input into the *NeuNetS*/**Keras** model, it must be preprocessed. This step resizes the image to fit the dimensions of the model's input layer, and normalizes the image to obtain an accurate prediction. "
   ]
  },
  {
   "cell_type": "code",
   "execution_count": null,
   "metadata": {
    "collapsed": true
   },
   "outputs": [],
   "source": [
    "preprocessed_image = processor.preprocess([test_image])"
   ]
  },
  {
   "cell_type": "markdown",
   "metadata": {},
   "source": [
    "### 4.2 Call model.predict() from **Keras**\n",
    "The image_processor library uses the **Keras** framework to make a prediction with the model. The user can also do this step on their own, without utilizing the library. \n",
    "\n",
    "First import the model class and load_model function from **Keras**. (TensorFlow and **Keras** will have been installed along with text_processor.) Then call model.predict() to get an array of probabilities. "
   ]
  },
  {
   "cell_type": "code",
   "execution_count": null,
   "metadata": {},
   "outputs": [],
   "source": [
    "from keras.models import Model\n",
    "from keras.models import load_model\n",
    "\n",
    "model = load_model(model_file)\n",
    "probabilities = model.predict(preprocessed_image)\n",
    "probabilities"
   ]
  },
  {
   "cell_type": "markdown",
   "metadata": {},
   "source": [
    "### 4.3 Postprocess to Obtain Class Labels\n",
    "The postprocess method in the image_processor uses the metadata file that was packaged with the *NeuNetS* model to convert this array of probabilities into a dictionary containing the class labels as keys and the probabilities assigned to those classes as values."
   ]
  },
  {
   "cell_type": "code",
   "execution_count": null,
   "metadata": {},
   "outputs": [],
   "source": [
    "result = processor.postprocess(probabilities[0])\n",
    "result"
   ]
  },
  {
   "cell_type": "markdown",
   "metadata": {},
   "source": [
    "### Author: *NeuNetS* Team"
   ]
  },
  {
   "cell_type": "markdown",
   "metadata": {},
   "source": [
    "Copyright © 2018 IBM. This notebook and its source code are released under the terms of the MIT License."
   ]
  }
 ],
 "metadata": {
  "kernelspec": {
   "display_name": "Python (autonn)",
   "language": "python",
   "name": "autonn"
  },
  "language_info": {
   "codemirror_mode": {
    "name": "ipython",
    "version": 3
   },
   "file_extension": ".py",
   "mimetype": "text/x-python",
   "name": "python",
   "nbconvert_exporter": "python",
   "pygments_lexer": "ipython3",
   "version": "3.5.6"
  }
 },
 "nbformat": 4,
 "nbformat_minor": 2
}
