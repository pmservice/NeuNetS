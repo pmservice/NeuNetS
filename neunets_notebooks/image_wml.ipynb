{
 "cells": [
  {
   "cell_type": "markdown",
   "metadata": {},
   "source": [
    "# Using NeuNetS Generated Model to Perform Inference on Sample Images with the Watson Machine Learning Client"
   ]
  },
  {
   "cell_type": "markdown",
   "metadata": {},
   "source": [
    "This notebook demonstrates inferencing with a **Keras** (TensorFlow) model which was designed and trained using *NeuNetS*. *NeuNetS* designs and trains a custom neural network, which users may then download. \n",
    "\n",
    "In addition to downloading the model for use elsewhere, the user has the option of deploying the model straight to their Watson Machine Learning instance through the *NeuNetS* interface. Once this is done, they will receive a URL which they can use to classify new images. \n",
    "\n",
    "The user can input **raw .jpg or .png images**. "
   ]
  },
  {
   "cell_type": "markdown",
   "metadata": {},
   "source": [
    "## 1. Launch Watson Machine Learning Client\n",
    "First, install the latest version of the Watson Machine Learning Client. "
   ]
  },
  {
   "cell_type": "code",
   "execution_count": null,
   "metadata": {},
   "outputs": [],
   "source": [
    "!pip install --upgrade watson-machine-learning-client pillow numpy==1.15.4"
   ]
  },
  {
   "cell_type": "markdown",
   "metadata": {},
   "source": [
    "**Tip**: Restart the kernel (**Kernel** -> **Restart**)\n",
    "\n",
    "Next import the API Client."
   ]
  },
  {
   "cell_type": "code",
   "execution_count": null,
   "metadata": {},
   "outputs": [],
   "source": [
    "from watson_machine_learning_client import WatsonMachineLearningAPIClient"
   ]
  },
  {
   "cell_type": "markdown",
   "metadata": {},
   "source": [
    "Credentials are necessary to access the user WML instance. \n",
    "\n",
    "**Tip**: Authentication information (your credentials) can be found in the Service credentials tab of the WML service instance that you created on IBM Cloud. If there are no credentials listed for your instance in Service credentials, click New credential (+) and enter the information required to generate new authentication information."
   ]
  },
  {
   "cell_type": "code",
   "execution_count": null,
   "metadata": {},
   "outputs": [],
   "source": [
    "wml_credentials = {\n",
    "  \"url\": \"<>\",\n",
    "  \"access_key\": \"<>\",\n",
    "  \"username\": \"<>\",\n",
    "  \"password\": \"<>\",\n",
    "  \"instance_id\": \"<>\"\n",
    "}"
   ]
  },
  {
   "cell_type": "markdown",
   "metadata": {},
   "source": [
    "Now initialize the client with your credentials. "
   ]
  },
  {
   "cell_type": "code",
   "execution_count": null,
   "metadata": {},
   "outputs": [],
   "source": [
    "client = WatsonMachineLearningAPIClient(wml_credentials)"
   ]
  },
  {
   "cell_type": "markdown",
   "metadata": {},
   "source": [
    "## 2. Load Image to be Classified"
   ]
  },
  {
   "cell_type": "markdown",
   "metadata": {},
   "source": [
    "Load the .jpg or .png image. This requires the Python Imaging Library. "
   ]
  },
  {
   "cell_type": "code",
   "execution_count": null,
   "metadata": {},
   "outputs": [],
   "source": [
    "from PIL import Image"
   ]
  },
  {
   "cell_type": "markdown",
   "metadata": {},
   "source": [
    "Now load the image to be classified. "
   ]
  },
  {
   "cell_type": "code",
   "execution_count": null,
   "metadata": {},
   "outputs": [],
   "source": [
    "test_image = Image.open('/path_to_image/test-image.jpg')\n",
    "display(test_image)"
   ]
  },
  {
   "cell_type": "markdown",
   "metadata": {},
   "source": [
    "In order to score with WML, we convert the processed image into a list and insert it in a payload dictionary. We then pass this dictionary to the scoring URL. This will return the class predicted by the *NeuNetS* model. To convert the image format to a list will require the Numpy library. "
   ]
  },
  {
   "cell_type": "code",
   "execution_count": null,
   "metadata": {},
   "outputs": [],
   "source": [
    "import numpy as np\n",
    "image_as_array = np.asarray(test_image)\n",
    "scoring_payload = {'values': [image_as_array.tolist()]}"
   ]
  },
  {
   "cell_type": "markdown",
   "metadata": {},
   "source": [
    "## 3. Call the WML Client to Classify the Image\n",
    "\n",
    "The WML deployment for our model includes a URL endpoint to perform the scoring. Copy this URL here so that the client can call the deployed *NeuNetS* model. \n",
    "\n",
    "**Tip:** To access the scoring URL, you must first have a deployed model in WML. After synthesizing a model, the \"Deploy Model to Watson Machine Learning\" button in the top right hand side of the page will be active. Click this and follow the link to the deployment details. On this page, go to the \"Implementation tab\". You will need to paste the scoring url that is listed here into the cell below. "
   ]
  },
  {
   "cell_type": "code",
   "execution_count": null,
   "metadata": {},
   "outputs": [],
   "source": [
    "scoring_url = \"\"\n",
    "print(scoring_url)"
   ]
  },
  {
   "cell_type": "code",
   "execution_count": null,
   "metadata": {},
   "outputs": [],
   "source": [
    "result = client.deployments.score(scoring_url, scoring_payload)\n",
    "result"
   ]
  },
  {
   "cell_type": "markdown",
   "metadata": {},
   "source": [
    "## 4. Manually Uploading Model to WML\n",
    "\n",
    "If a user downloads and model and wishes to upload it to WML manually, via the WML Python SDK, they may follow the steps below. \n",
    "\n",
    "1. Navigate to the model details page in Watson Studio. \n",
    "2. Click the Download Model button in the top right. \n",
    "3. Import WML credentials and initialize the WML client as described above.\n",
    "4. Using the following metadata:\n",
    "\n",
    "    ```ks_model_metadata = {\n",
    "    client.repository.ModelMetaNames.NAME: \"nnet_model\",\n",
    "    client.repository.ModelMetaNames.DESCRIPTION: \"nnets\",\n",
    "    client.repository.ModelMetaNames.AUTHOR_NAME: \"neunets\",\n",
    "    client.repository.ModelMetaNames.FRAMEWORK_NAME: \"tensorflow\",\n",
    "    client.repository.ModelMetaNames.FRAMEWORK_VERSION: \"1.5\",\n",
    "    client.repository.ModelMetaNames.RUNTIME_NAME: \"python\",\n",
    "    client.repository.ModelMetaNames.RUNTIME_VERSION: \"3.5\",\n",
    "    'frameworkLibraries': [{\"name\": \"keras\", \"version\": \"2.1.5\"}]\n",
    "    }```\n",
    "    \n",
    "    store the model in WML, with the command:\n",
    "    \n",
    "    ```model_details = client.repository.store_model(model=os.path.join(model_location,model_file),     meta_props=ks_model_metadata, training_data=None)```\n",
    "    \n",
    "5. Get the unique model id assigned by WML:  `model_uid = client.repository.get_model_uid(model_details)`\n",
    "6. Deploy the model in WML:  `deployment_details = client.deployments.create(model_uid, 'my neunets model')`\n",
    "7. Get the model's scoring URL from WML:  `scoring_url = client.deployments.get_scoring_url(deployment_details)`\n",
    "8. Make the test sentence into a scoring payload:  `scoring_payload = {'values': [np.asarray(test_image).tolist()]}`\n",
    "9. Obtain a prediction for the scoring payload:  `result = client.deployments.score(scoring_url, scoring_payload)`"
   ]
  },
  {
   "cell_type": "markdown",
   "metadata": {},
   "source": [
    "### Author: *NeuNetS* Team"
   ]
  },
  {
   "cell_type": "markdown",
   "metadata": {},
   "source": [
    "Copyright © 2018 IBM. This notebook and its source code are released under the terms of the MIT License."
   ]
  }
 ],
 "metadata": {
  "kernelspec": {
   "display_name": "Python (autonn)",
   "language": "python",
   "name": "autonn"
  },
  "language_info": {
   "codemirror_mode": {
    "name": "ipython",
    "version": 3
   },
   "file_extension": ".py",
   "mimetype": "text/x-python",
   "name": "python",
   "nbconvert_exporter": "python",
   "pygments_lexer": "ipython3",
   "version": "3.5.6"
  }
 },
 "nbformat": 4,
 "nbformat_minor": 2
}
